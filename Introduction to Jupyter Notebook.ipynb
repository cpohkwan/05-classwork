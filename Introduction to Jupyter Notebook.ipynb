{
 "cells": [
  {
   "cell_type": "markdown",
   "id": "fb5daab8",
   "metadata": {},
   "source": [
    "# Week 2, Class 2\n",
    "\n",
    "### Homework 3 Solutions\n",
    "\n",
    "Problem 6: Checking how **electric** pokemons are called in Korean\n",
    "\n",
    "``` python"
   ]
  },
  {
   "cell_type": "code",
   "execution_count": 18,
   "id": "3888a11a",
   "metadata": {},
   "outputs": [],
   "source": [
    "import requests\n",
    "\n",
    "url = \"https://pokeapi.co/api/v2/type/electric/\"\n",
    "response = requests.get(url)\n",
    "data = response.json()"
   ]
  },
  {
   "cell_type": "code",
   "execution_count": 26,
   "id": "82954a92",
   "metadata": {},
   "outputs": [
    {
     "data": {
      "text/plain": [
       "dict_keys(['damage_relations', 'game_indices', 'generation', 'id', 'move_damage_class', 'moves', 'name', 'names', 'past_damage_relations', 'pokemon'])"
      ]
     },
     "execution_count": 26,
     "metadata": {},
     "output_type": "execute_result"
    }
   ],
   "source": [
    "data.keys()"
   ]
  },
  {
   "cell_type": "code",
   "execution_count": 28,
   "id": "82af8972",
   "metadata": {},
   "outputs": [
    {
     "data": {
      "text/plain": [
       "[{'language': {'name': 'ja-Hrkt',\n",
       "   'url': 'https://pokeapi.co/api/v2/language/1/'},\n",
       "  'name': 'でんき'},\n",
       " {'language': {'name': 'ko', 'url': 'https://pokeapi.co/api/v2/language/3/'},\n",
       "  'name': '전기'},\n",
       " {'language': {'name': 'zh-Hant',\n",
       "   'url': 'https://pokeapi.co/api/v2/language/4/'},\n",
       "  'name': '電'},\n",
       " {'language': {'name': 'fr', 'url': 'https://pokeapi.co/api/v2/language/5/'},\n",
       "  'name': 'Électrik'},\n",
       " {'language': {'name': 'de', 'url': 'https://pokeapi.co/api/v2/language/6/'},\n",
       "  'name': 'Elektro'},\n",
       " {'language': {'name': 'es', 'url': 'https://pokeapi.co/api/v2/language/7/'},\n",
       "  'name': 'Eléctrico'},\n",
       " {'language': {'name': 'it', 'url': 'https://pokeapi.co/api/v2/language/8/'},\n",
       "  'name': 'Elettro'},\n",
       " {'language': {'name': 'en', 'url': 'https://pokeapi.co/api/v2/language/9/'},\n",
       "  'name': 'Electric'},\n",
       " {'language': {'name': 'ja', 'url': 'https://pokeapi.co/api/v2/language/11/'},\n",
       "  'name': 'でんき'},\n",
       " {'language': {'name': 'zh-Hans',\n",
       "   'url': 'https://pokeapi.co/api/v2/language/12/'},\n",
       "  'name': '电'}]"
      ]
     },
     "execution_count": 28,
     "metadata": {},
     "output_type": "execute_result"
    }
   ],
   "source": [
    "data[\"names\"]"
   ]
  },
  {
   "cell_type": "code",
   "execution_count": 32,
   "id": "f1f2f02c",
   "metadata": {},
   "outputs": [
    {
     "data": {
      "text/plain": [
       "{'language': {'name': 'ko', 'url': 'https://pokeapi.co/api/v2/language/3/'},\n",
       " 'name': '전기'}"
      ]
     },
     "execution_count": 32,
     "metadata": {},
     "output_type": "execute_result"
    }
   ],
   "source": [
    "data[\"names\"][1]"
   ]
  },
  {
   "cell_type": "code",
   "execution_count": 33,
   "id": "b492817f",
   "metadata": {},
   "outputs": [
    {
     "data": {
      "text/plain": [
       "dict_keys(['language', 'name'])"
      ]
     },
     "execution_count": 33,
     "metadata": {},
     "output_type": "execute_result"
    }
   ],
   "source": [
    "data[\"names\"][1].keys()"
   ]
  },
  {
   "cell_type": "code",
   "execution_count": 34,
   "id": "373ee1f2",
   "metadata": {},
   "outputs": [
    {
     "data": {
      "text/plain": [
       "'전기'"
      ]
     },
     "execution_count": 34,
     "metadata": {},
     "output_type": "execute_result"
    }
   ],
   "source": [
    "data[\"names\"][1][\"name\"]"
   ]
  },
  {
   "cell_type": "code",
   "execution_count": 35,
   "id": "a8cb4156",
   "metadata": {},
   "outputs": [],
   "source": [
    "# Maybe the above is not ideal because you'll never know if Korean is always the second in list"
   ]
  },
  {
   "cell_type": "code",
   "execution_count": 37,
   "id": "fde90b82",
   "metadata": {},
   "outputs": [
    {
     "data": {
      "text/plain": [
       "[{'language': {'name': 'ja-Hrkt',\n",
       "   'url': 'https://pokeapi.co/api/v2/language/1/'},\n",
       "  'name': 'でんき'},\n",
       " {'language': {'name': 'ko', 'url': 'https://pokeapi.co/api/v2/language/3/'},\n",
       "  'name': '전기'},\n",
       " {'language': {'name': 'zh-Hant',\n",
       "   'url': 'https://pokeapi.co/api/v2/language/4/'},\n",
       "  'name': '電'},\n",
       " {'language': {'name': 'fr', 'url': 'https://pokeapi.co/api/v2/language/5/'},\n",
       "  'name': 'Électrik'},\n",
       " {'language': {'name': 'de', 'url': 'https://pokeapi.co/api/v2/language/6/'},\n",
       "  'name': 'Elektro'},\n",
       " {'language': {'name': 'es', 'url': 'https://pokeapi.co/api/v2/language/7/'},\n",
       "  'name': 'Eléctrico'},\n",
       " {'language': {'name': 'it', 'url': 'https://pokeapi.co/api/v2/language/8/'},\n",
       "  'name': 'Elettro'},\n",
       " {'language': {'name': 'en', 'url': 'https://pokeapi.co/api/v2/language/9/'},\n",
       "  'name': 'Electric'},\n",
       " {'language': {'name': 'ja', 'url': 'https://pokeapi.co/api/v2/language/11/'},\n",
       "  'name': 'でんき'},\n",
       " {'language': {'name': 'zh-Hans',\n",
       "   'url': 'https://pokeapi.co/api/v2/language/12/'},\n",
       "  'name': '电'}]"
      ]
     },
     "execution_count": 37,
     "metadata": {},
     "output_type": "execute_result"
    }
   ],
   "source": [
    "data[\"names\"]"
   ]
  },
  {
   "cell_type": "code",
   "execution_count": 42,
   "id": "2958d331",
   "metadata": {},
   "outputs": [
    {
     "name": "stdout",
     "output_type": "stream",
     "text": [
      "I found it\n",
      "전기\n"
     ]
    }
   ],
   "source": [
    "for name in data[\"names\"]:\n",
    "    # print(\"--------\")\n",
    "    # print(name)\n",
    "    # print(name[\"language\"][\"name\"])\n",
    "    # name[\"name\"] is the name of type, not the name of language\n",
    "    if name[\"language\"][\"name\"] == \"ko\":\n",
    "        print(\"I found it\")\n",
    "        print(name[\"name\"])"
   ]
  },
  {
   "cell_type": "code",
   "execution_count": 48,
   "id": "9b1d63a9",
   "metadata": {},
   "outputs": [],
   "source": [
    "url = \"https://pokeapi.co/api/v2/pokemon/pikachu/\"\n",
    "response = requests.get(url)\n",
    "data = response.json()"
   ]
  },
  {
   "cell_type": "code",
   "execution_count": 49,
   "id": "43631fea",
   "metadata": {},
   "outputs": [
    {
     "data": {
      "text/plain": [
       "dict_keys(['abilities', 'base_experience', 'forms', 'game_indices', 'height', 'held_items', 'id', 'is_default', 'location_area_encounters', 'moves', 'name', 'order', 'past_types', 'species', 'sprites', 'stats', 'types', 'weight'])"
      ]
     },
     "execution_count": 49,
     "metadata": {},
     "output_type": "execute_result"
    }
   ],
   "source": [
    "data.keys()"
   ]
  },
  {
   "cell_type": "code",
   "execution_count": 50,
   "id": "6022d829",
   "metadata": {},
   "outputs": [
    {
     "data": {
      "text/plain": [
       "[{'base_stat': 35,\n",
       "  'effort': 0,\n",
       "  'stat': {'name': 'hp', 'url': 'https://pokeapi.co/api/v2/stat/1/'}},\n",
       " {'base_stat': 55,\n",
       "  'effort': 0,\n",
       "  'stat': {'name': 'attack', 'url': 'https://pokeapi.co/api/v2/stat/2/'}},\n",
       " {'base_stat': 40,\n",
       "  'effort': 0,\n",
       "  'stat': {'name': 'defense', 'url': 'https://pokeapi.co/api/v2/stat/3/'}},\n",
       " {'base_stat': 50,\n",
       "  'effort': 0,\n",
       "  'stat': {'name': 'special-attack',\n",
       "   'url': 'https://pokeapi.co/api/v2/stat/4/'}},\n",
       " {'base_stat': 50,\n",
       "  'effort': 0,\n",
       "  'stat': {'name': 'special-defense',\n",
       "   'url': 'https://pokeapi.co/api/v2/stat/5/'}},\n",
       " {'base_stat': 90,\n",
       "  'effort': 2,\n",
       "  'stat': {'name': 'speed', 'url': 'https://pokeapi.co/api/v2/stat/6/'}}]"
      ]
     },
     "execution_count": 50,
     "metadata": {},
     "output_type": "execute_result"
    }
   ],
   "source": [
    "data[\"stats\"]"
   ]
  },
  {
   "cell_type": "code",
   "execution_count": 67,
   "id": "0fdaa782",
   "metadata": {},
   "outputs": [
    {
     "name": "stdout",
     "output_type": "stream",
     "text": [
      "------\n",
      "------\n",
      "------\n",
      "------\n",
      "------\n",
      "------\n",
      "Found speed!!\n",
      "{'base_stat': 55, 'effort': 0, 'stat': {'name': 'speed', 'url': 'https://pokeapi.co/api/v2/stat/6/'}}\n",
      "Pikachu's speed is 90\n"
     ]
    }
   ],
   "source": [
    "for stat in data[\"stats\"]:\n",
    "    print(\"------\")\n",
    "    if stat[\"stat\"][\"name\"] == \"speed\":\n",
    "        print(\"Found speed!!\")\n",
    "        print(stat)\n",
    "        pikachu_speed = stat[\"base_stat\"]\n",
    "        print(\"Pikachu's speed is 90\")"
   ]
  },
  {
   "cell_type": "code",
   "execution_count": 68,
   "id": "d8c86d49",
   "metadata": {},
   "outputs": [],
   "source": [
    "# to find out eevee's speed\n",
    "\n",
    "url = \"https://pokeapi.co/api/v2/pokemon/eevee/\"\n",
    "response = requests.get(url)\n",
    "data = response.json()\n"
   ]
  },
  {
   "cell_type": "code",
   "execution_count": 69,
   "id": "ed380183",
   "metadata": {},
   "outputs": [
    {
     "name": "stdout",
     "output_type": "stream",
     "text": [
      "------\n",
      "------\n",
      "------\n",
      "------\n",
      "------\n",
      "------\n",
      "Found speed!!\n",
      "{'base_stat': 55, 'effort': 0, 'stat': {'name': 'speed', 'url': 'https://pokeapi.co/api/v2/stat/6/'}}\n",
      "Eevee's speed is 90\n"
     ]
    }
   ],
   "source": [
    "for stat in data[\"stats\"]:\n",
    "    print(\"------\")\n",
    "    if stat[\"stat\"][\"name\"] == \"speed\":\n",
    "        print(\"Found speed!!\")\n",
    "        print(stat)\n",
    "        eevee_speed = stat[\"base_stat\"]\n",
    "        print(\"Eevee's speed is 90\")"
   ]
  },
  {
   "cell_type": "code",
   "execution_count": 70,
   "id": "4d7106ec",
   "metadata": {},
   "outputs": [],
   "source": [
    "if pikachu_speed > eevee_speed:\n",
    "    print(\"Pikachu is faster than Eevee.\")\n",
    "if eevee_speed > pikachua_speed:\n",
    "    print(\"Eevee is faster than Pikachu.\")"
   ]
  },
  {
   "cell_type": "code",
   "execution_count": null,
   "id": "de02d604",
   "metadata": {},
   "outputs": [],
   "source": []
  }
 ],
 "metadata": {
  "kernelspec": {
   "display_name": "Python 3 (ipykernel)",
   "language": "python",
   "name": "python3"
  },
  "language_info": {
   "codemirror_mode": {
    "name": "ipython",
    "version": 3
   },
   "file_extension": ".py",
   "mimetype": "text/x-python",
   "name": "python",
   "nbconvert_exporter": "python",
   "pygments_lexer": "ipython3",
   "version": "3.10.3"
  }
 },
 "nbformat": 4,
 "nbformat_minor": 5
}
